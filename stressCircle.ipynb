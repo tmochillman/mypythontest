{
 "cells": [
  {
   "cell_type": "code",
   "execution_count": 1,
   "metadata": {},
   "outputs": [],
   "source": [
    "import numpy as np\n",
    "import matplotlib as mpl\n",
    "import matplotlib.pyplot as plt"
   ]
  },
  {
   "cell_type": "markdown",
   "metadata": {},
   "source": [
    "# Now Interactive"
   ]
  },
  {
   "cell_type": "markdown",
   "metadata": {},
   "source": [
    "The idea is to have one slider controlling the angle, and showing on two plots, the observed area 'dA' and the stress circle.\n",
    "On the left plot, there is the observed area, which turn according to set angle. On the other plot there is the tension circle, showing the normal and shear parts of the tension of the corresponding angle."
   ]
  },
  {
   "cell_type": "code",
   "execution_count": 2,
   "metadata": {},
   "outputs": [],
   "source": [
    "from scipy import linalg\n",
    "\n",
    "# define tension tensor\n",
    "T = np.array([[0.65,0.5],[0.5,0.15]])\n",
    "#linalg.det(T)\n",
    "\n",
    "# define points, which represent the observed area dA\n",
    "square = np.array([[-1,-1,1,1,-1],[-1,1,1,-1,-1]])"
   ]
  },
  {
   "cell_type": "code",
   "execution_count": 8,
   "metadata": {},
   "outputs": [],
   "source": [
    "# helper functions for stresses\n",
    "def mm(tensor):\n",
    "    return (tensor[0,0]+tensor[1,1]) / 2\n",
    "\n",
    "def rr(tensor):\n",
    "    s = np.power((tensor[0,0] - tensor[1,1])/2, 2)\n",
    "    t = np.power(tensor[0,1], 2)\n",
    "    return np.sqrt(s+t)"
   ]
  },
  {
   "cell_type": "code",
   "execution_count": 27,
   "metadata": {},
   "outputs": [],
   "source": [
    "# miscellhelper functions\n",
    "def turn(angle):\n",
    "     return np.array([[np.cos(angle), -np.sin(angle)], \\\n",
    "                      [np.sin(angle),  np.cos(angle)]])"
   ]
  },
  {
   "cell_type": "code",
   "execution_count": 28,
   "metadata": {},
   "outputs": [
    {
     "name": "stdout",
     "output_type": "stream",
     "text": [
      "Using matplotlib backend: Qt5Agg\n"
     ]
    },
    {
     "data": {
      "text/plain": [
       "0"
      ]
     },
     "execution_count": 28,
     "metadata": {},
     "output_type": "execute_result"
    }
   ],
   "source": [
    "%matplotlib\n",
    "from matplotlib.widgets import Slider as MSlider\n",
    "\n",
    "# set up plot window\n",
    "fig,ax = plt.subplots(nrows=1, ncols=2, sharex=True, sharey=True)\n",
    "plt.subplots_adjust(bottom=0.25)\n",
    "ax_slider_angle = plt.axes([0.25, 0.1, 0.65, 0.03])\n",
    "angle_slider = MSlider(ax_slider_angle, 'angle', -np.pi, 2*np.pi, 0)\n",
    "ax1 = ax[0]; ax1.set_aspect('equal', 'box')\n",
    "ax2 = ax[1]; ax2.set_aspect('equal', 'box')\n",
    "ax1.set_xlabel('x-dimension $\\\\vec{e}_1$'); ax1.set_ylabel('y-dimension $\\\\vec{e}_2$')\n",
    "ax2.set_xlabel('normal tension $\\\\sigma$'); ax2.set_ylabel(\"shear tension $\\\\tau$\")\n",
    "\n",
    "# set up plot\n",
    "square_p, = ax1.plot(square[0,:], square[1,:], color=\"black\")\n",
    "circ = mpl.patches.Circle((mm(T),0),radius=rr(T),color=\"red\",fill=False)\n",
    "ax2.add_patch(circ)\n",
    "points = np.array([[T[0,0],T[1,1]],[T[0,1],-T[1,0]]])\n",
    "tension_p, = ax2.plot(points[0,:], points[1,:], linestyle=None, marker='o')\n",
    "\n",
    "\n",
    "# define callback function\n",
    "def update(val):\n",
    "    # turn the square\n",
    "    square_p.set_data(np.matmul(turn(val),square))\n",
    "    \n",
    "    # turn the tension on the circle\n",
    "    tt = points - np.array([[1,1],[0,0]]) * mm(T)\n",
    "    tt = np.matmul(turn(-2*val),tt)\n",
    "    tt = tt + np.array([[1,1],[0,0]]) * mm(T)\n",
    "    tension_p.set_data(tt)\n",
    "    \n",
    "    fig.canvas.draw_idle()\n",
    "angle_slider.on_changed(update)"
   ]
  },
  {
   "cell_type": "code",
   "execution_count": null,
   "metadata": {},
   "outputs": [],
   "source": []
  }
 ],
 "metadata": {
  "kernelspec": {
   "display_name": "Python 3",
   "language": "python",
   "name": "python3"
  },
  "language_info": {
   "codemirror_mode": {
    "name": "ipython",
    "version": 3
   },
   "file_extension": ".py",
   "mimetype": "text/x-python",
   "name": "python",
   "nbconvert_exporter": "python",
   "pygments_lexer": "ipython3",
   "version": "3.7.0"
  }
 },
 "nbformat": 4,
 "nbformat_minor": 2
}
